{
 "cells": [
  {
   "cell_type": "code",
   "execution_count": 8,
   "metadata": {},
   "outputs": [],
   "source": [
    "# packages\n",
    "\n",
    "import numpy as np\n",
    "import matplotlib.pyplot as plt\n",
    "from matplotlib.colors import hsv_to_rgb\n",
    "import pandas as pd\n",
    "import os\n",
    "from itertools import combinations\n",
    "\n",
    "import sys\n",
    "sys.path.append(\"../src\")\n",
    "\n",
    "from analysis import *\n",
    "from inference import *"
   ]
  },
  {
   "cell_type": "code",
   "execution_count": 9,
   "metadata": {},
   "outputs": [],
   "source": [
    "import re\n",
    "\n",
    "def natural_sort(l): \n",
    "    convert = lambda text: int(text) if text.isdigit() else text.lower() \n",
    "    alphanum_key = lambda key: [convert(c) for c in re.split('([0-9]+)', key)] \n",
    "    return sorted(l, key=alphanum_key)"
   ]
  },
  {
   "cell_type": "code",
   "execution_count": 10,
   "metadata": {},
   "outputs": [],
   "source": [
    "datapath = \"../experiment_outputs/growth_meas_0.1/datasets/\"\n",
    "datafiles = os.listdir(datapath)\n",
    "metadatafiles = [f\"metadata{i.split('dataset')[1].split('csv')[0]}txt\"\\\n",
    "                for i in datafiles]\n",
    "\n",
    "datafiles = natural_sort(datafiles)\n",
    "metadatafiles = natural_sort(metadatafiles)"
   ]
  },
  {
   "cell_type": "code",
   "execution_count": 11,
   "metadata": {},
   "outputs": [
    {
     "name": "stdout",
     "output_type": "stream",
     "text": [
      "10 species\n"
     ]
    }
   ],
   "source": [
    "n_sp = 10\n",
    "print(f\"{n_sp} species\")\n",
    "\n",
    "datafiles_n_sp = [i for i in datafiles if f\"{n_sp}_sp\" in i]\n",
    "metadatafiles_n_sp = [i for i in metadatafiles if f\"{n_sp}_sp\" in i]\n",
    "\n",
    "df = pd.read_csv(datapath+datafiles[-1], index_col=0)\n",
    "metatext = open(f\"{datapath}../metadata/\"+metadatafiles[-1], \"r\").read().split(\"\\n\")"
   ]
  },
  {
   "cell_type": "code",
   "execution_count": 12,
   "metadata": {},
   "outputs": [
    {
     "name": "stdout",
     "output_type": "stream",
     "text": [
      "Numbers of sampling points: [11 21 31]\n",
      "Average sampling intervals: [3.  1.5 1. ]\n",
      "Number of initial conditions: 20\n",
      "Number of repetitions: 1\n",
      "Environmental noise: 0.1\n",
      "Amounts of measurement noise: [0.1]\n"
     ]
    }
   ],
   "source": [
    "metadict = get_meta(metatext)\n",
    "\n",
    "print(f\"Numbers of sampling points: {metadict['n_tpoints']}\")\n",
    "print(f\"Average sampling intervals: {metadict['avg_dt'].round(3)}\")\n",
    "print(f\"Number of initial conditions: {metadict['n_init_cond']}\")\n",
    "print(f\"Number of repetitions: {metadict['repetitions']}\")\n",
    "print(f\"Environmental noise: {metadict['env_noise']}\")\n",
    "print(f\"Amounts of measurement noise: {metadict['meas_noise']}\")"
   ]
  },
  {
   "cell_type": "code",
   "execution_count": 13,
   "metadata": {},
   "outputs": [],
   "source": [
    "def calculate_es_score(true_aij, inferred_aij) -> float:\n",
    "    \"\"\"GRANT'S edited version to calculate ED score\n",
    "\n",
    "    Calculate the ecological direction (EDₙ) score (n := number of species in ecosystem).\n",
    "\n",
    "    Parameters\n",
    "    ===============\n",
    "    truth: ndarray(axis0=species_names, axis1=species_names), the ecosystem coefficient matrix used to generate data\n",
    "    inferred: ndarray(axis0=species_names, axis1=species_names), the inferred ecosystem coefficient matrix\n",
    "    Returns\n",
    "    ===============\n",
    "    ES_score: float\n",
    "    \"\"\"\n",
    "\n",
    "    truth = pd.DataFrame(true_aij).copy()\n",
    "    inferred = pd.DataFrame(inferred_aij).copy()\n",
    "\n",
    "    # consider inferred coefficients\n",
    "    mask = inferred != 0\n",
    "\n",
    "    # compare sign: agreement when == -2 or +2, disagreement when 0\n",
    "    nonzero_sign = np.sign(inferred)[mask] + np.sign(truth)[mask]\n",
    "    corr_sign = (np.abs(nonzero_sign) == 2).sum().sum()\n",
    "    opposite_sign = (np.abs(nonzero_sign) == 0).sum().sum()\n",
    "\n",
    "    # count incorrect non-zero coefficients\n",
    "    wrong_nz = (truth[mask] == 0).sum().sum()\n",
    "\n",
    "    # combine\n",
    "    unscaled_score = corr_sign - opposite_sign\n",
    "\n",
    "    # scale by theoretical extrema\n",
    "    truth_nz_counts = (truth != 0).sum().sum()\n",
    "    truth_z_counts = len(truth.index) ** 2 - truth_nz_counts\n",
    "    theoretical_min = -truth_nz_counts\n",
    "    theoretical_max = truth_nz_counts\n",
    "\n",
    "    ES_score = (unscaled_score - theoretical_min) / (theoretical_max - theoretical_min)\n",
    "\n",
    "    return ES_score"
   ]
  },
  {
   "cell_type": "code",
   "execution_count": 14,
   "metadata": {},
   "outputs": [
    {
     "name": "stderr",
     "output_type": "stream",
     "text": [
      "100%|██████████| 20/20 [01:38<00:00,  4.95s/it]\n",
      "100%|██████████| 20/20 [01:28<00:00,  4.42s/it]\n",
      "100%|██████████| 20/20 [01:43<00:00,  5.18s/it]\n",
      "100%|██████████| 20/20 [01:46<00:00,  5.33s/it]\n",
      "100%|██████████| 20/20 [01:46<00:00,  5.35s/it]\n",
      "100%|██████████| 20/20 [01:39<00:00,  4.99s/it]\n",
      "100%|██████████| 20/20 [01:42<00:00,  5.14s/it]\n",
      "100%|██████████| 20/20 [01:42<00:00,  5.14s/it]\n",
      "100%|██████████| 20/20 [01:42<00:00,  5.12s/it]\n",
      "100%|██████████| 20/20 [01:37<00:00,  4.88s/it]\n",
      "100%|██████████| 20/20 [01:42<00:00,  5.12s/it]\n",
      "100%|██████████| 20/20 [01:36<00:00,  4.84s/it]\n",
      "100%|██████████| 20/20 [01:35<00:00,  4.79s/it]\n",
      "100%|██████████| 20/20 [02:03<00:00,  6.15s/it]\n",
      "100%|██████████| 20/20 [01:58<00:00,  5.94s/it]\n",
      "100%|██████████| 20/20 [01:34<00:00,  4.75s/it]\n",
      "100%|██████████| 20/20 [01:31<00:00,  4.59s/it]\n",
      "100%|██████████| 20/20 [02:00<00:00,  6.02s/it]\n",
      "100%|██████████| 20/20 [02:14<00:00,  6.70s/it]\n",
      "100%|██████████| 20/20 [02:12<00:00,  6.63s/it]\n",
      "100%|██████████| 20/20 [02:02<00:00,  6.11s/it]\n",
      "100%|██████████| 20/20 [01:54<00:00,  5.75s/it]\n",
      "100%|██████████| 20/20 [01:29<00:00,  4.46s/it]\n",
      "100%|██████████| 20/20 [01:42<00:00,  5.14s/it]\n",
      "100%|██████████| 20/20 [02:05<00:00,  6.30s/it]\n",
      "100%|██████████| 20/20 [02:10<00:00,  6.54s/it]\n",
      "100%|██████████| 20/20 [01:58<00:00,  5.93s/it]\n",
      "100%|██████████| 20/20 [02:12<00:00,  6.64s/it]\n",
      "100%|██████████| 20/20 [02:04<00:00,  6.22s/it]\n",
      "100%|██████████| 20/20 [02:10<00:00,  6.54s/it]\n"
     ]
    }
   ],
   "source": [
    "# Infer and score\n",
    "\n",
    "try:\n",
    "    os.mkdir(f\"{datapath}/../inference\")\n",
    "except:\n",
    "    pass\n",
    "\n",
    "param_columns = [f\"r{i}\" for i in range(1, n_sp+1)] + \\\n",
    "                [f\"A{i},{j}\" for i in range(1, n_sp+1) for j in range(1, n_sp+1)]\n",
    "\n",
    "cols = [\"n_init_cond\"] + list(df.columns[1:4]) + param_columns + [\"MSPD\", \"CSR\", \"ES\"]\n",
    "infer_out_all = []\n",
    "\n",
    "for file_idx in range(len(datafiles_n_sp)):\n",
    "    datafile = datafiles_n_sp[file_idx]\n",
    "    metadatafile = metadatafiles_n_sp[file_idx]\n",
    "\n",
    "    df = pd.read_csv(datapath+datafile, index_col=0)\n",
    "    metatext = open(f\"{datapath}../metadata/\"+metadatafile, \"r\").read().split(\"\\n\")\n",
    "    metadict = get_meta(metatext)\n",
    "    \n",
    "    infer_out = pd.DataFrame(columns=cols)\n",
    "\n",
    "    pd.options.mode.chained_assignment = None\n",
    "\n",
    "    p = metadict[\"parameters\"]\n",
    "    r = p[:n_sp]\n",
    "    A = p[n_sp:].reshape((n_sp,n_sp))\n",
    "\n",
    "    for t_samp in df.t_samp_dist_idx.unique():\n",
    "        for meas_noise in df.measurement_noise.unique():\n",
    "            df_tmp = df[(df[[\"t_samp_dist_idx\", \"measurement_noise\"]]==[t_samp, meas_noise]).all(axis=1)]\n",
    "            for i in tqdm(range(len(df.init_cond_idx.unique()))):\n",
    "                combs = list(combinations(df.init_cond_idx.unique(), i+1))\n",
    "                np.random.shuffle(combs)\n",
    "                for comb in combs[:100]:\n",
    "                    df_comb = df_tmp[df_tmp.init_cond_idx.isin(comb)]\n",
    "                    r_est, A_est = fit_ridge_cv(df_comb)\n",
    "                    p_est = np.concatenate((r_est, A_est.flatten()))\n",
    "                    MSPD = ((p-p_est)**2).mean()\n",
    "                    CSR = (np.sign(A_est)==np.sign(A)).mean()\n",
    "                    ES = calculate_es_score(A, A_est)\n",
    "                    infer_out.loc[len(infer_out)] = [i+1, comb, t_samp, meas_noise] + list(p_est) + [MSPD, CSR, ES]\n",
    "\n",
    "\n",
    "    infer_out.to_csv(f\"{datapath}/../inference/infer_out_\"+datafile.split(\"dataset\")[1])\n",
    "    infer_out_all.append(infer_out)"
   ]
  }
 ],
 "metadata": {
  "kernelspec": {
   "display_name": "Python 3.10.8 ('base')",
   "language": "python",
   "name": "python3"
  },
  "language_info": {
   "codemirror_mode": {
    "name": "ipython",
    "version": 3
   },
   "file_extension": ".py",
   "mimetype": "text/x-python",
   "name": "python",
   "nbconvert_exporter": "python",
   "pygments_lexer": "ipython3",
   "version": "3.10.8"
  },
  "orig_nbformat": 4,
  "vscode": {
   "interpreter": {
    "hash": "61f66c9cb52b40e00ac570727ccd8b1767a1d502bed964675cbccc34495792c2"
   }
  }
 },
 "nbformat": 4,
 "nbformat_minor": 2
}
