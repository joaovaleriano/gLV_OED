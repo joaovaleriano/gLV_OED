{
 "cells": [
  {
   "cell_type": "markdown",
   "metadata": {},
   "source": [
    "# SGD fit tests"
   ]
  },
  {
   "cell_type": "code",
   "execution_count": 1,
   "metadata": {},
   "outputs": [],
   "source": [
    "import numpy as np\n",
    "import matplotlib.pyplot as plt\n",
    "\n",
    "import sys\n",
    "sys.path.append(\"../src\")\n",
    "\n",
    "from stochastic_glv_generator import *\n",
    "from experiments import *\n",
    "from analysis import *\n",
    "from inference import *"
   ]
  },
  {
   "cell_type": "code",
   "execution_count": 2,
   "metadata": {},
   "outputs": [
    {
     "name": "stdout",
     "output_type": "stream",
     "text": [
      "new matrix 1[0.1192381  0.25916698 0.10143348]\n",
      "1/1                                                                                                 "
     ]
    }
   ],
   "source": [
    "n = 3\n",
    "seed = 1\n",
    "r_max = 1.\n",
    "A_diag_std = 1.\n",
    "A_off_diag_std = 10.\n",
    "\n",
    "p = sort_glv_params(n, seed, r_max, A_diag_std, A_off_diag_std)\n",
    "r = p[:n]\n",
    "A = p[n:].reshape((n, n))\n",
    "x_eq = -np.linalg.inv(A)@r\n",
    "print(x_eq)\n",
    "\n",
    "env_noise = 0.02\n",
    "t0 = 0\n",
    "dt = 1e-2\n",
    "\n",
    "np.random.seed(123)\n",
    "init_perturb = np.random.choice([-1., 1.], n)\n",
    "# init_perturb = -np.ones(n)\n",
    "init_perturb[init_perturb<0] *= np.random.uniform(0.99, 1., (init_perturb<0).sum())\n",
    "init_perturb[init_perturb>0] *= np.random.uniform(0.8, 5, (init_perturb>0).sum())\n",
    "# perturb_scale_list = np.array([0.3, 0.5, 0.8, 1.])\n",
    "perturb_scale_list = np.random.uniform(0, 1, 1)\n",
    "t_samp_list = np.linspace(0, 20, 60).reshape((1,-1))\n",
    "# t_samp_list = np.arange(0, 20+dt, dt)\n",
    "meas_noise_list = np.array([0.01])\n",
    "repetitions = 1\n",
    "\n",
    "replicates = gen_replicates(p, env_noise, init_perturb, perturb_scale_list, t0, dt, t_samp_list, meas_noise_list, repetitions, seed=0, scale_meas_noise_by_abund=True)"
   ]
  },
  {
   "cell_type": "code",
   "execution_count": null,
   "metadata": {},
   "outputs": [],
   "source": []
  }
 ],
 "metadata": {
  "kernelspec": {
   "display_name": "Python 3.8.10 ('jaxcpu')",
   "language": "python",
   "name": "python3"
  },
  "language_info": {
   "codemirror_mode": {
    "name": "ipython",
    "version": 3
   },
   "file_extension": ".py",
   "mimetype": "text/x-python",
   "name": "python",
   "nbconvert_exporter": "python",
   "pygments_lexer": "ipython3",
   "version": "3.8.10"
  },
  "orig_nbformat": 4,
  "vscode": {
   "interpreter": {
    "hash": "f82c927187987f998fbb43b463248669609be4616f053ea354dc764dbc79fddd"
   }
  }
 },
 "nbformat": 4,
 "nbformat_minor": 2
}
