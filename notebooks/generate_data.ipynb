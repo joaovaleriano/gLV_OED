{
 "cells": [
  {
   "cell_type": "code",
   "execution_count": 1,
   "metadata": {},
   "outputs": [],
   "source": [
    "import numpy as np\n",
    "import matplotlib.pyplot as plt\n",
    "from tqdm import tqdm\n",
    "import time\n",
    "import datetime\n",
    "\n",
    "import sys\n",
    "sys.path.append(\"../src\")\n",
    "\n",
    "from stochastic_glv_generator import *\n",
    "from experiments import *\n",
    "from analysis import *"
   ]
  },
  {
   "cell_type": "markdown",
   "metadata": {},
   "source": [
    "## Dataset properties"
   ]
  },
  {
   "cell_type": "markdown",
   "metadata": {},
   "source": [
    "n_sp = np.array([2, 4, 6, 8, 10])\n",
    "n_samples = [5, 10, 20, 50, 100]\n",
    "t_samp_list = [np.linspace(0, 30, i) for i in n_samples]\n",
    "\n",
    "params_seeds = np.arange(20)\n",
    "\n",
    "env_noise_list = [0., 0.05, 0.1, 0.2]\n",
    "meas_noise_list = [0.1, 0.05, 0.1, 0.2]\n",
    "\n",
    "n_init_cond = 20\n",
    "\n",
    "perturb_exp_base = 2.\n",
    "perturb_scale_and_sigma = [0, 1.5]\n",
    "\n",
    "repetitions = 1\n",
    "\n",
    "t0 = 0.\n",
    "dt = 1e-3\n",
    "\n",
    "r_max = 1.\n",
    "A_off_diag_std = 1.\n",
    "A_diag_mean = A_off_diag_std * n_sp**0.5 * 1.1\n",
    "A_diag_std = 0.1 * A_diag_mean"
   ]
  },
  {
   "cell_type": "code",
   "execution_count": 43,
   "metadata": {},
   "outputs": [],
   "source": [
    "n_sp = np.array([3, 5, 7, 10, 20])\n",
    "n_samples = [11]#, 21, 31, 51, 76, 101, 201]\n",
    "t_samp_list = [np.linspace(0, 30, i) for i in n_samples]\n",
    "\n",
    "params_seeds = np.arange(10)\n",
    "\n",
    "env_noise_list = [0.1]\n",
    "meas_noise_list = [0.1]\n",
    "\n",
    "n_init_cond = 100\n",
    "\n",
    "growth_scale = [0.1]\n",
    "\n",
    "# if len(sys.argv) > 1:\n",
    "#     growth_scale[0] = np.float64(sys.argv[1])\n",
    "\n",
    "save_loc = \"test_growth\"\n",
    "# if len(sys.argv) > 2:\n",
    "#     save_loc = sys.argv[2]\n",
    "# print(f\"Save location = {save_loc}\\n\")\n",
    "\n",
    "repetitions = 1\n",
    "\n",
    "t0 = 0.\n",
    "dt = 1e-3\n",
    "\n",
    "r_max = 1.\n",
    "A_off_diag_std = 1.\n",
    "A_diag_mean = A_off_diag_std * n_sp**0.5 * 1.1\n",
    "A_diag_std = 0.1 * A_diag_mean"
   ]
  },
  {
   "cell_type": "code",
   "execution_count": 44,
   "metadata": {},
   "outputs": [
    {
     "name": "stdout",
     "output_type": "stream",
     "text": [
      "Number of experiments (= number of files): 50\n",
      "Number of datasets per file: 100\n",
      "Total number of datasets: 5000\n",
      "Expected total size: 13.218 MB\n"
     ]
    }
   ],
   "source": [
    "n_experiments = len(n_sp) * len(params_seeds) * len(env_noise_list)\n",
    "print(f\"Number of experiments (= number of files): {n_experiments}\")\n",
    "\n",
    "n_datasets = n_init_cond * repetitions * len(meas_noise_list) * len(n_samples)\n",
    "print(f\"Number of datasets per file: {n_datasets}\")\n",
    "\n",
    "print(f\"Total number of datasets: {n_experiments*n_datasets}\")\n",
    "\n",
    "data_size = (n_sp.sum()+5*len(n_sp)) * np.sum(n_samples) *  len(params_seeds) * len(env_noise_list) *\\\n",
    "     len(meas_noise_list) * n_init_cond * repetitions * 18 / 1024**2\n",
    "print(f\"Expected total size: {data_size:.3f} MB\")"
   ]
  },
  {
   "cell_type": "markdown",
   "metadata": {},
   "source": [
    "## Dataset generation command"
   ]
  },
  {
   "cell_type": "markdown",
   "metadata": {},
   "source": [
    "np.random.seed(0)\n",
    "\n",
    "for i in range(len(n_sp)):\n",
    "    print(f\"{n_sp[i]} species: \")\n",
    "    for j in tqdm(range(len(params_seeds))):\n",
    "        p = sort_glv_params(n_sp[i], params_seeds[j], r_max, A_diag_mean[i], A_diag_std[i], A_off_diag_std)\n",
    "\n",
    "        r = p[:n_sp[i]]\n",
    "        A = p[n_sp[i]:].reshape((n_sp[i], n_sp[i]))\n",
    "        x_eq = -np.linalg.inv(A)@r\n",
    "\n",
    "        init_cond_list = init_cond_by_perturb(x_eq, perturb_exp_base, perturb_scale_and_sigma, n_init_cond)\n",
    "\n",
    "        for k in range(len(env_noise_list)):\n",
    "            env_noise = env_noise_list[k]\n",
    "            save_name = f\"{n_sp[i]}_sp{j}_env_noise{env_noise}\"\n",
    "            gen_replicates(p, env_noise, init_cond_list, t0, dt, t_samp_list, meas_noise_list, repetitions, \n",
    "            seed=k, scale_meas_noise_by_abund=True, save_datasets=True, save_loc=\"perturb_meas_0.1\", save_name=save_name)"
   ]
  },
  {
   "cell_type": "code",
   "execution_count": 45,
   "metadata": {},
   "outputs": [
    {
     "name": "stdout",
     "output_type": "stream",
     "text": [
      "3 species: \n"
     ]
    },
    {
     "name": "stderr",
     "output_type": "stream",
     "text": [
      "100%|██████████| 10/10 [00:17<00:00,  1.71s/it]\n"
     ]
    },
    {
     "name": "stdout",
     "output_type": "stream",
     "text": [
      "5 species: \n"
     ]
    },
    {
     "name": "stderr",
     "output_type": "stream",
     "text": [
      "100%|██████████| 10/10 [00:27<00:00,  2.79s/it]\n"
     ]
    },
    {
     "name": "stdout",
     "output_type": "stream",
     "text": [
      "7 species: \n"
     ]
    },
    {
     "name": "stderr",
     "output_type": "stream",
     "text": [
      "100%|██████████| 10/10 [00:54<00:00,  5.49s/it]\n"
     ]
    },
    {
     "name": "stdout",
     "output_type": "stream",
     "text": [
      "10 species: \n"
     ]
    },
    {
     "name": "stderr",
     "output_type": "stream",
     "text": [
      "100%|██████████| 10/10 [01:17<00:00,  7.70s/it]\n"
     ]
    },
    {
     "name": "stdout",
     "output_type": "stream",
     "text": [
      "20 species: \n"
     ]
    },
    {
     "name": "stderr",
     "output_type": "stream",
     "text": [
      "100%|██████████| 10/10 [01:46<00:00, 10.70s/it]\n"
     ]
    }
   ],
   "source": [
    "np.random.seed(0)\n",
    "\n",
    "for i in range(len(n_sp)):\n",
    "    print(f\"{n_sp[i]} species: \")\n",
    "    for j in tqdm(range(len(params_seeds))):\n",
    "        p = sort_glv_params(n_sp[i], params_seeds[j], r_max, A_diag_mean[i], A_diag_std[i], A_off_diag_std)\n",
    "\n",
    "        r = p[:n_sp[i]]\n",
    "        A = p[n_sp[i]:].reshape((n_sp[i], n_sp[i]))\n",
    "        x_eq = -np.linalg.inv(A)@r\n",
    "\n",
    "        init_cond_list = init_cond_by_growth(x_eq, growth_scale, n_init_cond)\n",
    "\n",
    "        for k in range(len(env_noise_list)):\n",
    "            env_noise = env_noise_list[k]\n",
    "            save_name = f\"{n_sp[i]}_sp{j}_env_noise{env_noise}\"\n",
    "            gen_replicates(p, env_noise, init_cond_list, t0, dt, t_samp_list, meas_noise_list, repetitions, \n",
    "            seed=k, scale_meas_noise_by_abund=True, save_datasets=True, save_loc=save_loc, save_name=save_name)"
   ]
  },
  {
   "cell_type": "code",
   "execution_count": 46,
   "metadata": {},
   "outputs": [
    {
     "data": {
      "text/plain": [
       "[<matplotlib.lines.Line2D at 0x7f975ce79540>]"
      ]
     },
     "execution_count": 46,
     "metadata": {},
     "output_type": "execute_result"
    },
    {
     "data": {
      "image/png": "[encoded data removed]",
      "text/plain": [
       "<Figure size 640x480 with 1 Axes>"
      ]
     },
     "metadata": {},
     "output_type": "display_data"
    }
   ],
   "source": [
    "plt.plot([3, 5, 7, 10, 20], [1.71, 2.79, 5.49, 7.7, 10.7])"
   ]
  }
 ],
 "metadata": {
  "kernelspec": {
   "display_name": "Python 3.10.6 ('base')",
   "language": "python",
   "name": "python3"
  },
  "language_info": {
   "codemirror_mode": {
    "name": "ipython",
    "version": 3
   },
   "file_extension": ".py",
   "mimetype": "text/x-python",
   "name": "python",
   "nbconvert_exporter": "python",
   "pygments_lexer": "ipython3",
   "version": "3.10.8"
  },
  "orig_nbformat": 4,
  "vscode": {
   "interpreter": {
    "hash": "61f66c9cb52b40e00ac570727ccd8b1767a1d502bed964675cbccc34495792c2"
   }
  }
 },
 "nbformat": 4,
 "nbformat_minor": 2
}
