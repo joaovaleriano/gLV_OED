{
 "cells": [
  {
   "cell_type": "code",
   "execution_count": 1,
   "metadata": {},
   "outputs": [],
   "source": [
    "import numpy as np\n",
    "import matplotlib.pyplot as plt\n",
    "from tqdm import tqdm\n",
    "import time\n",
    "import datetime\n",
    "\n",
    "import sys\n",
    "sys.path.append(\"../src\")\n",
    "\n",
    "from stochastic_glv_generator import *\n",
    "from experiments import *\n",
    "from analysis import *"
   ]
  },
  {
   "cell_type": "markdown",
   "metadata": {},
   "source": [
    "## Dataset properties"
   ]
  },
  {
   "cell_type": "code",
   "execution_count": 2,
   "metadata": {},
   "outputs": [
    {
     "name": "stdout",
     "output_type": "stream",
     "text": [
      "Expected total dataset size: 158.081 MB\n"
     ]
    }
   ],
   "source": [
    "n_sp = np.array([2, 3, 4, 5])\n",
    "n_samples = [5, 10, 20, 50, 100]\n",
    "t_samp_list = [np.linspace(0, 30, i) for i in n_samples]\n",
    "\n",
    "params_seeds = np.arange(100)\n",
    "\n",
    "env_noise_list = [0., 0.05, 0.1, 0.2]\n",
    "meas_noise_list = [0., 0.05, 0.1, 0.2]\n",
    "\n",
    "n_init_cond = 5\n",
    "repetitions = 1\n",
    "\n",
    "t0 = 0.\n",
    "dt = 1e-3\n",
    "\n",
    "r_max = 1.\n",
    "A_off_diag_std = 1.\n",
    "A_diag_mean = A_off_diag_std * n_sp**0.5 * 1.1\n",
    "A_diag_std = 0.1 * A_diag_mean\n",
    "\n",
    "data_size = n_sp.sum() * np.sum(n_samples) * len(params_seeds) * len(env_noise_list) * len(meas_noise_list) * n_init_cond * repetitions * 8 / 1024**2\n",
    "print(f\"Expected total dataset size: {data_size:.3f} MB\")"
   ]
  },
  {
   "cell_type": "markdown",
   "metadata": {},
   "source": [
    "## Dataset generation command"
   ]
  },
  {
   "cell_type": "code",
   "execution_count": null,
   "metadata": {},
   "outputs": [],
   "source": [
    "for i in range(len(n_sp)):\n",
    "    print(f\"{n_sp[i]} species: \")\n",
    "    for j in tqdm(range(len(params_seeds))):\n",
    "        p = sort_glv_params(n_sp[i], params_seeds[j], r_max, A_diag_mean[i], A_diag_std[i], A_off_diag_std)\n",
    "\n",
    "        r = p[:n_sp[i]]\n",
    "        A = p[n_sp[i]:].reshape((n_sp[i], n_sp[i]))\n",
    "        x_eq = -np.linalg.inv(A)@r\n",
    "\n",
    "        init_cond_list = init_cond_by_perturb(x_eq, 2, [[-1, 1]], 1)\n",
    "\n",
    "        for env_noise in env_noise_list:\n",
    "            save_name = f\"{n_sp[i]}_sp{j}_env_noise{env_noise}\"\n",
    "            gen_replicates(p, env_noise, init_cond_list, t0, dt, t_samp_list, meas_noise_list, repetitions, seed=0, scale_meas_noise_by_abund=True, save_datasets=True, save_loc=\"test\", save_name=save_name)"
   ]
  }
 ],
 "metadata": {
  "kernelspec": {
   "display_name": "Python 3.10.6 ('base')",
   "language": "python",
   "name": "python3"
  },
  "language_info": {
   "codemirror_mode": {
    "name": "ipython",
    "version": 3
   },
   "file_extension": ".py",
   "mimetype": "text/x-python",
   "name": "python",
   "nbconvert_exporter": "python",
   "pygments_lexer": "ipython3",
   "version": "3.10.6"
  },
  "orig_nbformat": 4,
  "vscode": {
   "interpreter": {
    "hash": "61f66c9cb52b40e00ac570727ccd8b1767a1d502bed964675cbccc34495792c2"
   }
  }
 },
 "nbformat": 4,
 "nbformat_minor": 2
}
